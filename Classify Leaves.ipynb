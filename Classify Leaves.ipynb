{
 "cells": [
  {
   "cell_type": "code",
   "execution_count": 1,
   "id": "initial_id",
   "metadata": {
    "collapsed": true,
    "ExecuteTime": {
     "end_time": "2024-06-04T03:01:01.943666Z",
     "start_time": "2024-06-04T03:00:16.085443Z"
    }
   },
   "outputs": [],
   "source": [
    "from torch.utils.data import Dataset, DataLoader\n",
    "from PIL import Image\n",
    "import pandas as pd\n",
    "import numpy as np\n",
    "from tqdm import tqdm\n",
    "import torchvision.transforms as transforms\n",
    "import torchvision.models as models\n",
    "import torch\n",
    "from torch import nn\n",
    "import warnings\n",
    "warnings.filterwarnings(\"ignore\")"
   ]
  },
  {
   "cell_type": "code",
   "outputs": [],
   "source": [
    "class LeaveDataDataset(Dataset):\n",
    "    def __init__(self,train_csv_path,mode='train',train_ratio=0.8,\n",
    "                 resize_height=256,resize_width=256):\n",
    "        self.resize_height = resize_height\n",
    "        self.resize_width = resize_width\n",
    "        self.train_ratio = train_ratio\n",
    "        self.data = pd.read_csv(train_csv_path)\n",
    "        self.mode = mode\n",
    "        self.data_len = len(self.data)\n",
    "        self.train_len = int(self.data_len * self.train_ratio)\n",
    "        if mode == 'train':\n",
    "            self.image = np.asarray(self.data.iloc[:self.train_len, 0])\n",
    "            self.label = np.asarray(self.data.iloc[:self.train_len, 1])\n",
    "        elif mode == 'valid':\n",
    "            self.image = np.asarray(self.data.iloc[self.train_len:, 0])\n",
    "            self.label = np.asarray(self.data.iloc[self.train_len:, 1])\n",
    "        elif mode == 'test':\n",
    "            self.image =np.asarray(self.data.iloc[:, 0])\n",
    "        self.len = len(self.image)\n",
    "        print('Finished reading the {} set of Leaves Dataset ({} samples found)'\n",
    "              .format(mode, self.len))\n",
    "    def __getitem__(self, index):\n",
    "        image_path = self.image[index]\n",
    "        image = Image.open(image_path)\n",
    "        # if image.mode != 'L':\n",
    "        #     image = image.convert('L')\n",
    "        if self.mode == 'train':\n",
    "            transform = transforms.Compose([transforms.Resize((224, 224)),\n",
    "                                            transforms.RandomHorizontalFlip(p=0.5), \n",
    "                                            transforms.RandomVerticalFlip(p=0.5),\n",
    "                                            transforms.ToTensor()])\n",
    "        else:\n",
    "            transform = transforms.Compose([transforms.Resize((224, 224)),\n",
    "                                            transforms.ToTensor()])\n",
    "        img = transform(image)\n",
    "        if self.mode == 'test':\n",
    "            return img\n",
    "        else:\n",
    "            label = self.label[index]\n",
    "            label_num = class_to_num[label]\n",
    "            return img,label_num\n",
    "    def __len__(self):\n",
    "        return self.len"
   ],
   "metadata": {
    "collapsed": false,
    "ExecuteTime": {
     "end_time": "2024-06-04T03:01:01.959695Z",
     "start_time": "2024-06-04T03:01:01.946400Z"
    }
   },
   "id": "d3c18b2939d80eb1",
   "execution_count": 2
  },
  {
   "cell_type": "code",
   "outputs": [],
   "source": [
    "def set_parameter_requires_grad(model, feature_extracting):\n",
    "    if feature_extracting:\n",
    "        model = model\n",
    "        for param in model.parameters():\n",
    "            param.requires_grad = False\n",
    "\n",
    "def res_model(num_classes, feature_extract = False, use_pretrained=True):\n",
    "\n",
    "    model_ft = models.resnet34(pretrained=use_pretrained)\n",
    "    set_parameter_requires_grad(model_ft, feature_extract)\n",
    "    num_ftrs = model_ft.fc.in_features\n",
    "    model_ft.fc = nn.Sequential(nn.Linear(num_ftrs, num_classes))\n",
    "\n",
    "    return model_ft"
   ],
   "metadata": {
    "collapsed": false,
    "ExecuteTime": {
     "end_time": "2024-06-04T03:01:01.974660Z",
     "start_time": "2024-06-04T03:01:01.961399Z"
    }
   },
   "id": "6ea1a9c510a2577d",
   "execution_count": 3
  },
  {
   "cell_type": "code",
   "outputs": [],
   "source": [
    "def train_leaf(net, num_epochs, lr, device,best_acc):\n",
    "    print(device)\n",
    "    loss = torch.nn.CrossEntropyLoss()\n",
    "    optimizer = torch.optim.SGD(net.parameters(), lr=lr)\n",
    "    net = net.to(device)    \n",
    "    train_dataset = LeaveDataDataset(train_path,mode='train')\n",
    "    val_dataset = LeaveDataDataset(train_path,mode='valid')\n",
    "\n",
    "    train_iter = DataLoader(dataset=train_dataset,batch_size=batch_size, shuffle=True)\n",
    "    val_iter = DataLoader(dataset=val_dataset,batch_size=batch_size, shuffle=True)\n",
    "    \n",
    "    for epoch in range(num_epochs):\n",
    "        net.train()\n",
    "        print('Train Epoch: {}/{}'.format(epoch, num_epochs),'train len: {}'.format(len(train_iter)))\n",
    "        train_loss, train_acc, n = 0.0, 0.0, 0   \n",
    "        for X, y in tqdm(train_iter):\n",
    "            X = X.to(device)\n",
    "            y = y.to(device)\n",
    "            optimizer.zero_grad()\n",
    "            y_hat = net(X)\n",
    "            l = loss(y_hat, y)\n",
    "            l.backward()\n",
    "            optimizer.step()\n",
    "            train_loss += l.item() * y.shape[0]\n",
    "            train_acc += (y_hat.argmax(dim=1) == y).sum().item()\n",
    "            n += y.shape[0]\n",
    "        train_loss /= n\n",
    "        train_acc /= n\n",
    "        print(f\"Epoch {epoch}: Train Loss={train_loss:.4f}, Train Acc={train_acc:.4f}\")\n",
    "        \n",
    "        net.eval()\n",
    "        print('Val Epoch: {}/{}'.format(epoch, num_epochs),'val len: {}'.format(len(val_iter)))\n",
    "        val_loss, val_acc, m = 0.0, 0.0, 0\n",
    "        for X, y in tqdm(val_iter):\n",
    "            X = X.to(device)\n",
    "            y = y.to(device)\n",
    "            with torch.no_grad():\n",
    "                y_hat = net(X)\n",
    "            l = loss(y_hat, y)\n",
    "            val_loss += l.item() * y.shape[0]\n",
    "            val_acc += (y_hat.argmax(dim=1) == y).sum().item()\n",
    "            m += y.shape[0]\n",
    "        val_loss /= m\n",
    "        val_acc /= m\n",
    "        print(f\"Epoch {epoch}: Val Loss={val_loss:.4f}, Val Acc={val_acc:.4f}\")\n",
    "        if val_acc > best_acc:\n",
    "            best_acc = val_acc\n",
    "            torch.save(model.state_dict(), model_path)\n",
    "            print('saving model with acc {:.3f}'.format(best_acc))"
   ],
   "metadata": {
    "collapsed": false,
    "ExecuteTime": {
     "end_time": "2024-06-04T03:01:01.990403Z",
     "start_time": "2024-06-04T03:01:01.976399Z"
    }
   },
   "id": "dfe588a3985eecf8",
   "execution_count": 4
  },
  {
   "cell_type": "code",
   "outputs": [],
   "source": [
    "num_epochs = 20\n",
    "batch_size=16\n",
    "lr=0.05\n",
    "best_acc = 0.1\n",
    "model_path = './working/leaf_resnet34.pth'\n",
    "device = torch.device('cuda' if torch.cuda.is_available() else 'cpu')\n",
    "train_path = 'train.csv'\n",
    "test_path = 'test.csv'\n",
    "class_to_num = np.load('class_to_num.npy', allow_pickle=True).item()\n",
    "num_to_class = np.load('num_to_class.npy', allow_pickle=True).item()\n",
    "n_classes = len(class_to_num)\n",
    "model = res_model(n_classes)"
   ],
   "metadata": {
    "collapsed": false,
    "ExecuteTime": {
     "end_time": "2024-06-04T03:01:03.508788Z",
     "start_time": "2024-06-04T03:01:01.994401Z"
    }
   },
   "id": "80bc316ab70b85c6",
   "execution_count": 5
  },
  {
   "cell_type": "code",
   "outputs": [
    {
     "name": "stdout",
     "output_type": "stream",
     "text": [
      "cuda\n",
      "Finished reading the train set of Leaves Dataset (14682 samples found)\n",
      "Finished reading the valid set of Leaves Dataset (3671 samples found)\n",
      "Train Epoch: 0/20 train len: 918\n"
     ]
    },
    {
     "name": "stderr",
     "output_type": "stream",
     "text": [
      "100%|██████████| 918/918 [07:00<00:00,  2.18it/s]\n"
     ]
    },
    {
     "name": "stdout",
     "output_type": "stream",
     "text": [
      "Epoch 0: Train Loss=2.3664, Train Acc=0.3903\n",
      "Val Epoch: 0/20 val len: 230\n"
     ]
    },
    {
     "name": "stderr",
     "output_type": "stream",
     "text": [
      "100%|██████████| 230/230 [00:27<00:00,  8.33it/s]\n"
     ]
    },
    {
     "name": "stdout",
     "output_type": "stream",
     "text": [
      "Epoch 0: Val Loss=1.5379, Val Acc=0.5530\n",
      "saving model with acc 0.553\n",
      "Train Epoch: 1/20 train len: 918\n"
     ]
    },
    {
     "name": "stderr",
     "output_type": "stream",
     "text": [
      "100%|██████████| 918/918 [03:32<00:00,  4.33it/s]\n"
     ]
    },
    {
     "name": "stdout",
     "output_type": "stream",
     "text": [
      "Epoch 1: Train Loss=1.0713, Train Acc=0.6776\n",
      "Val Epoch: 1/20 val len: 230\n"
     ]
    },
    {
     "name": "stderr",
     "output_type": "stream",
     "text": [
      "100%|██████████| 230/230 [00:21<00:00, 10.69it/s]\n"
     ]
    },
    {
     "name": "stdout",
     "output_type": "stream",
     "text": [
      "Epoch 1: Val Loss=1.2680, Val Acc=0.6227\n",
      "saving model with acc 0.623\n",
      "Train Epoch: 2/20 train len: 918\n"
     ]
    },
    {
     "name": "stderr",
     "output_type": "stream",
     "text": [
      "100%|██████████| 918/918 [03:32<00:00,  4.33it/s]\n"
     ]
    },
    {
     "name": "stdout",
     "output_type": "stream",
     "text": [
      "Epoch 2: Train Loss=0.7347, Train Acc=0.7668\n",
      "Val Epoch: 2/20 val len: 230\n"
     ]
    },
    {
     "name": "stderr",
     "output_type": "stream",
     "text": [
      "100%|██████████| 230/230 [00:21<00:00, 10.83it/s]\n"
     ]
    },
    {
     "name": "stdout",
     "output_type": "stream",
     "text": [
      "Epoch 2: Val Loss=1.0419, Val Acc=0.6873\n",
      "saving model with acc 0.687\n",
      "Train Epoch: 3/20 train len: 918\n"
     ]
    },
    {
     "name": "stderr",
     "output_type": "stream",
     "text": [
      "100%|██████████| 918/918 [03:31<00:00,  4.33it/s]\n"
     ]
    },
    {
     "name": "stdout",
     "output_type": "stream",
     "text": [
      "Epoch 3: Train Loss=0.5287, Train Acc=0.8353\n",
      "Val Epoch: 3/20 val len: 230\n"
     ]
    },
    {
     "name": "stderr",
     "output_type": "stream",
     "text": [
      "100%|██████████| 230/230 [00:20<00:00, 10.97it/s]\n"
     ]
    },
    {
     "name": "stdout",
     "output_type": "stream",
     "text": [
      "Epoch 3: Val Loss=0.9374, Val Acc=0.7284\n",
      "saving model with acc 0.728\n",
      "Train Epoch: 4/20 train len: 918\n"
     ]
    },
    {
     "name": "stderr",
     "output_type": "stream",
     "text": [
      "100%|██████████| 918/918 [03:31<00:00,  4.34it/s]\n"
     ]
    },
    {
     "name": "stdout",
     "output_type": "stream",
     "text": [
      "Epoch 4: Train Loss=0.4170, Train Acc=0.8685\n",
      "Val Epoch: 4/20 val len: 230\n"
     ]
    },
    {
     "name": "stderr",
     "output_type": "stream",
     "text": [
      "100%|██████████| 230/230 [00:20<00:00, 10.97it/s]\n"
     ]
    },
    {
     "name": "stdout",
     "output_type": "stream",
     "text": [
      "Epoch 4: Val Loss=0.7145, Val Acc=0.7873\n",
      "saving model with acc 0.787\n",
      "Train Epoch: 5/20 train len: 918\n"
     ]
    },
    {
     "name": "stderr",
     "output_type": "stream",
     "text": [
      "100%|██████████| 918/918 [03:33<00:00,  4.30it/s]\n"
     ]
    },
    {
     "name": "stdout",
     "output_type": "stream",
     "text": [
      "Epoch 5: Train Loss=0.3388, Train Acc=0.8928\n",
      "Val Epoch: 5/20 val len: 230\n"
     ]
    },
    {
     "name": "stderr",
     "output_type": "stream",
     "text": [
      "100%|██████████| 230/230 [00:20<00:00, 11.07it/s]\n"
     ]
    },
    {
     "name": "stdout",
     "output_type": "stream",
     "text": [
      "Epoch 5: Val Loss=0.4256, Val Acc=0.8613\n",
      "saving model with acc 0.861\n",
      "Train Epoch: 6/20 train len: 918\n"
     ]
    },
    {
     "name": "stderr",
     "output_type": "stream",
     "text": [
      "100%|██████████| 918/918 [03:41<00:00,  4.14it/s]\n"
     ]
    },
    {
     "name": "stdout",
     "output_type": "stream",
     "text": [
      "Epoch 6: Train Loss=0.2974, Train Acc=0.9015\n",
      "Val Epoch: 6/20 val len: 230\n"
     ]
    },
    {
     "name": "stderr",
     "output_type": "stream",
     "text": [
      "100%|██████████| 230/230 [00:21<00:00, 10.46it/s]\n"
     ]
    },
    {
     "name": "stdout",
     "output_type": "stream",
     "text": [
      "Epoch 6: Val Loss=0.7856, Val Acc=0.7815\n",
      "Train Epoch: 7/20 train len: 918\n"
     ]
    },
    {
     "name": "stderr",
     "output_type": "stream",
     "text": [
      "100%|██████████| 918/918 [03:36<00:00,  4.24it/s]\n"
     ]
    },
    {
     "name": "stdout",
     "output_type": "stream",
     "text": [
      "Epoch 7: Train Loss=0.2477, Train Acc=0.9185\n",
      "Val Epoch: 7/20 val len: 230\n"
     ]
    },
    {
     "name": "stderr",
     "output_type": "stream",
     "text": [
      "100%|██████████| 230/230 [00:21<00:00, 10.92it/s]\n"
     ]
    },
    {
     "name": "stdout",
     "output_type": "stream",
     "text": [
      "Epoch 7: Val Loss=0.4965, Val Acc=0.8447\n",
      "Train Epoch: 8/20 train len: 918\n"
     ]
    },
    {
     "name": "stderr",
     "output_type": "stream",
     "text": [
      "100%|██████████| 918/918 [03:31<00:00,  4.35it/s]\n"
     ]
    },
    {
     "name": "stdout",
     "output_type": "stream",
     "text": [
      "Epoch 8: Train Loss=0.2150, Train Acc=0.9285\n",
      "Val Epoch: 8/20 val len: 230\n"
     ]
    },
    {
     "name": "stderr",
     "output_type": "stream",
     "text": [
      "100%|██████████| 230/230 [00:20<00:00, 11.06it/s]\n"
     ]
    },
    {
     "name": "stdout",
     "output_type": "stream",
     "text": [
      "Epoch 8: Val Loss=0.5972, Val Acc=0.8300\n",
      "Train Epoch: 9/20 train len: 918\n"
     ]
    },
    {
     "name": "stderr",
     "output_type": "stream",
     "text": [
      "100%|██████████| 918/918 [03:34<00:00,  4.28it/s]\n"
     ]
    },
    {
     "name": "stdout",
     "output_type": "stream",
     "text": [
      "Epoch 9: Train Loss=0.1752, Train Acc=0.9416\n",
      "Val Epoch: 9/20 val len: 230\n"
     ]
    },
    {
     "name": "stderr",
     "output_type": "stream",
     "text": [
      "100%|██████████| 230/230 [00:20<00:00, 11.01it/s]\n"
     ]
    },
    {
     "name": "stdout",
     "output_type": "stream",
     "text": [
      "Epoch 9: Val Loss=0.2748, Val Acc=0.9207\n",
      "saving model with acc 0.921\n",
      "Train Epoch: 10/20 train len: 918\n"
     ]
    },
    {
     "name": "stderr",
     "output_type": "stream",
     "text": [
      "100%|██████████| 918/918 [03:30<00:00,  4.35it/s]\n"
     ]
    },
    {
     "name": "stdout",
     "output_type": "stream",
     "text": [
      "Epoch 10: Train Loss=0.1700, Train Acc=0.9410\n",
      "Val Epoch: 10/20 val len: 230\n"
     ]
    },
    {
     "name": "stderr",
     "output_type": "stream",
     "text": [
      "100%|██████████| 230/230 [00:20<00:00, 11.10it/s]\n"
     ]
    },
    {
     "name": "stdout",
     "output_type": "stream",
     "text": [
      "Epoch 10: Val Loss=0.3167, Val Acc=0.8978\n",
      "Train Epoch: 11/20 train len: 918\n"
     ]
    },
    {
     "name": "stderr",
     "output_type": "stream",
     "text": [
      "100%|██████████| 918/918 [03:30<00:00,  4.37it/s]\n"
     ]
    },
    {
     "name": "stdout",
     "output_type": "stream",
     "text": [
      "Epoch 11: Train Loss=0.1573, Train Acc=0.9471\n",
      "Val Epoch: 11/20 val len: 230\n"
     ]
    },
    {
     "name": "stderr",
     "output_type": "stream",
     "text": [
      "100%|██████████| 230/230 [00:20<00:00, 11.17it/s]\n"
     ]
    },
    {
     "name": "stdout",
     "output_type": "stream",
     "text": [
      "Epoch 11: Val Loss=0.6868, Val Acc=0.8071\n",
      "Train Epoch: 12/20 train len: 918\n"
     ]
    },
    {
     "name": "stderr",
     "output_type": "stream",
     "text": [
      "100%|██████████| 918/918 [03:30<00:00,  4.36it/s]\n"
     ]
    },
    {
     "name": "stdout",
     "output_type": "stream",
     "text": [
      "Epoch 12: Train Loss=0.1298, Train Acc=0.9549\n",
      "Val Epoch: 12/20 val len: 230\n"
     ]
    },
    {
     "name": "stderr",
     "output_type": "stream",
     "text": [
      "100%|██████████| 230/230 [00:20<00:00, 11.18it/s]\n"
     ]
    },
    {
     "name": "stdout",
     "output_type": "stream",
     "text": [
      "Epoch 12: Val Loss=0.4315, Val Acc=0.8701\n",
      "Train Epoch: 13/20 train len: 918\n"
     ]
    },
    {
     "name": "stderr",
     "output_type": "stream",
     "text": [
      "100%|██████████| 918/918 [03:31<00:00,  4.33it/s]\n"
     ]
    },
    {
     "name": "stdout",
     "output_type": "stream",
     "text": [
      "Epoch 13: Train Loss=0.1115, Train Acc=0.9619\n",
      "Val Epoch: 13/20 val len: 230\n"
     ]
    },
    {
     "name": "stderr",
     "output_type": "stream",
     "text": [
      "100%|██████████| 230/230 [00:21<00:00, 10.95it/s]\n"
     ]
    },
    {
     "name": "stdout",
     "output_type": "stream",
     "text": [
      "Epoch 13: Val Loss=0.2185, Val Acc=0.9316\n",
      "saving model with acc 0.932\n",
      "Train Epoch: 14/20 train len: 918\n"
     ]
    },
    {
     "name": "stderr",
     "output_type": "stream",
     "text": [
      "100%|██████████| 918/918 [03:33<00:00,  4.29it/s]\n"
     ]
    },
    {
     "name": "stdout",
     "output_type": "stream",
     "text": [
      "Epoch 14: Train Loss=0.0899, Train Acc=0.9689\n",
      "Val Epoch: 14/20 val len: 230\n"
     ]
    },
    {
     "name": "stderr",
     "output_type": "stream",
     "text": [
      "100%|██████████| 230/230 [00:21<00:00, 10.77it/s]\n"
     ]
    },
    {
     "name": "stdout",
     "output_type": "stream",
     "text": [
      "Epoch 14: Val Loss=0.2060, Val Acc=0.9406\n",
      "saving model with acc 0.941\n",
      "Train Epoch: 15/20 train len: 918\n"
     ]
    },
    {
     "name": "stderr",
     "output_type": "stream",
     "text": [
      "100%|██████████| 918/918 [03:34<00:00,  4.28it/s]\n"
     ]
    },
    {
     "name": "stdout",
     "output_type": "stream",
     "text": [
      "Epoch 15: Train Loss=0.0843, Train Acc=0.9711\n",
      "Val Epoch: 15/20 val len: 230\n"
     ]
    },
    {
     "name": "stderr",
     "output_type": "stream",
     "text": [
      "100%|██████████| 230/230 [00:21<00:00, 10.95it/s]\n"
     ]
    },
    {
     "name": "stdout",
     "output_type": "stream",
     "text": [
      "Epoch 15: Val Loss=0.2568, Val Acc=0.9251\n",
      "Train Epoch: 16/20 train len: 918\n"
     ]
    },
    {
     "name": "stderr",
     "output_type": "stream",
     "text": [
      "100%|██████████| 918/918 [03:36<00:00,  4.25it/s]\n"
     ]
    },
    {
     "name": "stdout",
     "output_type": "stream",
     "text": [
      "Epoch 16: Train Loss=0.0782, Train Acc=0.9719\n",
      "Val Epoch: 16/20 val len: 230\n"
     ]
    },
    {
     "name": "stderr",
     "output_type": "stream",
     "text": [
      "100%|██████████| 230/230 [00:21<00:00, 10.67it/s]\n"
     ]
    },
    {
     "name": "stdout",
     "output_type": "stream",
     "text": [
      "Epoch 16: Val Loss=0.2135, Val Acc=0.9341\n",
      "Train Epoch: 17/20 train len: 918\n"
     ]
    },
    {
     "name": "stderr",
     "output_type": "stream",
     "text": [
      "100%|██████████| 918/918 [03:32<00:00,  4.31it/s]\n"
     ]
    },
    {
     "name": "stdout",
     "output_type": "stream",
     "text": [
      "Epoch 17: Train Loss=0.0673, Train Acc=0.9777\n",
      "Val Epoch: 17/20 val len: 230\n"
     ]
    },
    {
     "name": "stderr",
     "output_type": "stream",
     "text": [
      "100%|██████████| 230/230 [00:21<00:00, 10.93it/s]\n"
     ]
    },
    {
     "name": "stdout",
     "output_type": "stream",
     "text": [
      "Epoch 17: Val Loss=0.1827, Val Acc=0.9442\n",
      "saving model with acc 0.944\n",
      "Train Epoch: 18/20 train len: 918\n"
     ]
    },
    {
     "name": "stderr",
     "output_type": "stream",
     "text": [
      "100%|██████████| 918/918 [03:31<00:00,  4.33it/s]\n"
     ]
    },
    {
     "name": "stdout",
     "output_type": "stream",
     "text": [
      "Epoch 18: Train Loss=0.0758, Train Acc=0.9725\n",
      "Val Epoch: 18/20 val len: 230\n"
     ]
    },
    {
     "name": "stderr",
     "output_type": "stream",
     "text": [
      "100%|██████████| 230/230 [00:20<00:00, 10.98it/s]\n"
     ]
    },
    {
     "name": "stdout",
     "output_type": "stream",
     "text": [
      "Epoch 18: Val Loss=0.2173, Val Acc=0.9346\n",
      "Train Epoch: 19/20 train len: 918\n"
     ]
    },
    {
     "name": "stderr",
     "output_type": "stream",
     "text": [
      "100%|██████████| 918/918 [03:31<00:00,  4.34it/s]\n"
     ]
    },
    {
     "name": "stdout",
     "output_type": "stream",
     "text": [
      "Epoch 19: Train Loss=0.0607, Train Acc=0.9779\n",
      "Val Epoch: 19/20 val len: 230\n"
     ]
    },
    {
     "name": "stderr",
     "output_type": "stream",
     "text": [
      "100%|██████████| 230/230 [00:20<00:00, 11.04it/s]\n"
     ]
    },
    {
     "name": "stdout",
     "output_type": "stream",
     "text": [
      "Epoch 19: Val Loss=0.1727, Val Acc=0.9472\n",
      "saving model with acc 0.947\n"
     ]
    }
   ],
   "source": [
    "train_leaf(model, num_epochs, lr, device,best_acc)"
   ],
   "metadata": {
    "collapsed": false,
    "ExecuteTime": {
     "end_time": "2024-06-04T04:22:43.452551Z",
     "start_time": "2024-06-04T03:01:03.511784Z"
    }
   },
   "id": "ad6fadf5441e9b52",
   "execution_count": 6
  },
  {
   "cell_type": "code",
   "outputs": [
    {
     "name": "stdout",
     "output_type": "stream",
     "text": [
      "Finished reading the test set of Leaves Dataset (8800 samples found)\n"
     ]
    },
    {
     "name": "stderr",
     "output_type": "stream",
     "text": [
      "100%|██████████| 550/550 [00:49<00:00, 11.03it/s]"
     ]
    },
    {
     "name": "stdout",
     "output_type": "stream",
     "text": [
      "Done!!!!!!!!!!!!!!!!!!!!!!!!!!!\n"
     ]
    },
    {
     "name": "stderr",
     "output_type": "stream",
     "text": [
      "\n"
     ]
    }
   ],
   "source": [
    "saveFileName = './resnet34/submission.csv'\n",
    "test_dataset = LeaveDataDataset(test_path, mode='test')\n",
    "test_iter = DataLoader(dataset=test_dataset,batch_size=batch_size, shuffle=False)\n",
    "\n",
    "model = model.to(device)\n",
    "model.load_state_dict(torch.load(model_path))\n",
    "model.eval()\n",
    "\n",
    "predictions = []\n",
    "for X in tqdm(test_iter):\n",
    "    X = X.to(device)\n",
    "    with torch.no_grad():\n",
    "        logits = model(X)\n",
    "    predictions.extend(logits.argmax(dim=-1).cpu().numpy().tolist())\n",
    "preds = []\n",
    "for i in predictions:\n",
    "    preds.append(num_to_class[i])\n",
    "\n",
    "test_data = pd.read_csv(test_path)\n",
    "test_data['label'] = pd.Series(preds)\n",
    "submission = pd.concat([test_data['image'], test_data['label']], axis=1)\n",
    "submission.to_csv(saveFileName, index=False)\n",
    "print(\"Done!!!!!!!!!!!!!!!!!!!!!!!!!!!\")"
   ],
   "metadata": {
    "collapsed": false,
    "ExecuteTime": {
     "end_time": "2024-06-04T04:25:18.208067Z",
     "start_time": "2024-06-04T04:24:28.152639Z"
    }
   },
   "id": "f79dc2c658a9e79c",
   "execution_count": 8
  },
  {
   "cell_type": "code",
   "outputs": [],
   "source": [],
   "metadata": {
    "collapsed": false
   },
   "id": "45a150c3f40f295d"
  }
 ],
 "metadata": {
  "kernelspec": {
   "display_name": "Python 3",
   "language": "python",
   "name": "python3"
  },
  "language_info": {
   "codemirror_mode": {
    "name": "ipython",
    "version": 2
   },
   "file_extension": ".py",
   "mimetype": "text/x-python",
   "name": "python",
   "nbconvert_exporter": "python",
   "pygments_lexer": "ipython2",
   "version": "2.7.6"
  }
 },
 "nbformat": 4,
 "nbformat_minor": 5
}
